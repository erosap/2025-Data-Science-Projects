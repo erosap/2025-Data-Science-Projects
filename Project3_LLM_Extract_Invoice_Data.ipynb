{
 "cells": [
  {
   "cell_type": "markdown",
   "id": "63c064a5-24d0-432b-8b94-f8c81d251c7b",
   "metadata": {},
   "source": [
    "Class: DSC 670<br>\n",
    "Name: Eros Perez<br>\n",
    "Week: 3<br>\n",
    "Problem: 4<br>\n",
    "Link to Invoice: https://content.bellevue.edu/cst/dsc/670/dsc-670-exercise-invoice.pdf"
   ]
  },
  {
   "cell_type": "code",
   "execution_count": 111,
   "id": "09e442de-f532-4d50-b47b-ce79fff9a631",
   "metadata": {},
   "outputs": [],
   "source": [
    "import fitz  # PyMuPDF\n",
    "import requests\n",
    "import openai\n",
    "import json"
   ]
  },
  {
   "cell_type": "markdown",
   "id": "1f416fc0-8c44-4fc2-99ef-86fd3b8e7e9f",
   "metadata": {},
   "source": [
    "### Bring in pdf and extract text\n",
    "In the following block of code we extract the data from the pdf link and then create a string called pdf_text that holds all the information in a long string."
   ]
  },
  {
   "cell_type": "code",
   "execution_count": 124,
   "id": "c58acca5-6def-46ed-a608-3679b644c871",
   "metadata": {},
   "outputs": [],
   "source": [
    "#In this part of the code were are adding the link where the pdf is located\n",
    "pdf_url = \"https://content.bellevue.edu/cst/dsc/670/dsc-670-exercise-invoice.pdf\"\n",
    "pdf_path = \"invoice.pdf\"\n",
    "\n",
    "#Request fetches the file and writes the content disk\n",
    "response = requests.get(pdf_url)\n",
    "with open(pdf_path, \"wb\") as f:\n",
    "    f.write(response.content)\n",
    "\n",
    "# Using PyMuPDF, the text is extracted, then I loop through each page of text and finally join them together. \n",
    "#However, we only have one page for this example but this would work if their were many\"\n",
    "doc = fitz.open(pdf_path)\n",
    "pdf_text = \"\\n\".join(page.get_text() for page in doc)"
   ]
  },
  {
   "cell_type": "markdown",
   "id": "059f1dba-abd5-4751-a5df-5eea1bf2b5f1",
   "metadata": {},
   "source": [
    "### Use OpenAI API to transform the pdf into a desireable JSON format\n",
    "\n",
    "In this step we start by pulling my personal API key into the client. I then create a system prompt that guides the LLM on what role it should be which is a helpfulassistant that extracts structured data from invoices. Then I tell it the important fields it should identify. Next, we sent the instructions to the client with an additional temperature parameter. We choose a low score so that accuracy is high and it doesn't allucinate. Finally, I structure the data in a JSON format. "
   ]
  },
  {
   "cell_type": "code",
   "execution_count": 126,
   "id": "22025e05-cabd-44b3-a60a-1cc4dcdb4969",
   "metadata": {},
   "outputs": [
    {
     "name": "stdout",
     "output_type": "stream",
     "text": [
      "{\n",
      "    \"Invoice Number\": \"1111\",\n",
      "    \"Date\": \"6/28/2024\",\n",
      "    \"Bill To\": {\n",
      "        \"Name\": \"Natasha Jones\",\n",
      "        \"Company\": \"Central Beauty\",\n",
      "        \"Address\": \"123 Main St., Manhattan, NY 98765\",\n",
      "        \"Phone\": \"(321) 555-1234\"\n",
      "    },\n",
      "    \"Items\": [\n",
      "        {\n",
      "            \"Quantity\": 1,\n",
      "            \"Description\": \"Item Number 1\",\n",
      "            \"Unit Price\": 2.00,\n",
      "            \"Amount\": 2.00\n",
      "        },\n",
      "        {\n",
      "            \"Quantity\": 1,\n",
      "            \"Description\": \"Item Number 2\",\n",
      "            \"Unit Price\": 2.00,\n",
      "            \"Amount\": 2.00\n",
      "        },\n",
      "        {\n",
      "            \"Quantity\": 1,\n",
      "            \"Description\": \"Item Number 3\",\n",
      "            \"Unit Price\": 2.00,\n",
      "            \"Amount\": 2.00\n",
      "        }\n",
      "    ],\n",
      "    \"Items over this amount qualify for an additional discount\": \"$100\",\n",
      "    \"Subtotal\": 6.00,\n",
      "    \"Credit\": 1000.00,\n",
      "    \"Tax\": \"9.80%\",\n",
      "    \"Discount\": \"10%\",\n",
      "    \"Additional Discount\": \"12%\",\n",
      "    \"Balance Due\": -994.20\n",
      "}\n"
     ]
    }
   ],
   "source": [
    "# This snippet of code pulls my API key from my computer as it was stored in a .zshrc file\n",
    "client = openai.OpenAI(api_key=os.getenv(\"OPENAI_API_KEY\"))\n",
    "\n",
    "# This prompt guides the LLM on what it is and also tells the LLM what it should do. \n",
    "system_prompt = (\n",
    "    \"You are a helpful assistant that extracts structured data from invoices. \"\n",
    "    \"Convert the following invoice text into clean JSON format, identifying fields such as: \"\n",
    "    \"Invoice Number, Date, Bill To, Description, Quantity, Unit Price,\" \n",
    "    \"Items over this amount qualift for an additional discount,\"\n",
    "    \"Total, Credit, Subtotal, Tax as a percentage,Discount, Additional Discount as a percentage, Balance Due.\"\n",
    ")\n",
    "\n",
    "# This sends the request to GPT and instructs on the model, role and temperature to use. \n",
    "response = client.chat.completions.create(\n",
    "    model=\"gpt-3.5-turbo\",  # Change to \"gpt-4\" if you have access\n",
    "    messages=[\n",
    "        {\"role\": \"system\", \"content\": system_prompt},\n",
    "        {\"role\": \"user\", \"content\": pdf_text}\n",
    "    ],\n",
    "    temperature=0.2\n",
    ")\n",
    "\n",
    "# Extract the structured JSON data\n",
    "structured_json = response.choices[0].message.content\n",
    "print(structured_json)\n"
   ]
  },
  {
   "cell_type": "markdown",
   "id": "c7115dbe-4c99-448f-85d9-47c11646b391",
   "metadata": {},
   "source": [
    "### Evaluation\n",
    "\n",
    "I am very impressed with the output of the LLM. It accurately extracted each portion of the pdf file that it was asked to do. I did notice that I had to correctly label certain parts such as Discount versus Additional Discount to accuratly extract both of them. I first tested with just Discount and it was attributed to 12%. Finally, when I correctly labeled both, both were accurately brought in. It also accurately added a percentage but only when I asked it too otherwise the percentage was displayed as a number which may cause problems in a pipeline. My final thoughts on this is that the model needs some tweaking to get it right because it does almost exactly what you ask it to do. If you are not precise then it will make its own judgement and may not accurately do what you asked such as turning  adiscount into a percentage unless explcitiely asked. "
   ]
  }
 ],
 "metadata": {
  "kernelspec": {
   "display_name": "Python 3 (ipykernel)",
   "language": "python",
   "name": "python3"
  },
  "language_info": {
   "codemirror_mode": {
    "name": "ipython",
    "version": 3
   },
   "file_extension": ".py",
   "mimetype": "text/x-python",
   "name": "python",
   "nbconvert_exporter": "python",
   "pygments_lexer": "ipython3",
   "version": "3.11.7"
  }
 },
 "nbformat": 4,
 "nbformat_minor": 5
}
