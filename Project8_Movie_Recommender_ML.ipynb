{
 "cells": [
  {
   "cell_type": "markdown",
   "id": "04120325-4631-48b1-82fd-c22fa4942e50",
   "metadata": {},
   "source": [
    "Class: DSC630 - Predictive Analytics <br>\n",
    "Name: Eros Perez<br>\n",
    "Week: 10<br>\n",
    "Last Update: 2/11/25"
   ]
  },
  {
   "cell_type": "markdown",
   "id": "5ce94a30-a6c9-404b-9f22-d3fe0536515a",
   "metadata": {},
   "source": [
    "### Import Modules"
   ]
  },
  {
   "cell_type": "code",
   "execution_count": 108,
   "id": "fab567da-2315-40d6-87de-1c91536a8021",
   "metadata": {},
   "outputs": [],
   "source": [
    "#Import Modules\n",
    "import pandas as pd\n",
    "import numpy as np\n",
    "import warnings"
   ]
  },
  {
   "cell_type": "markdown",
   "id": "571f3f5f-bdb3-43e2-af74-2c97f660fc14",
   "metadata": {},
   "source": [
    "### Develop Recommender Model"
   ]
  },
  {
   "cell_type": "code",
   "execution_count": 113,
   "id": "4c22deb1-f587-4b21-adc5-ff806562abe0",
   "metadata": {},
   "outputs": [
    {
     "name": "stdout",
     "output_type": "stream",
     "text": [
      "Need a movie? Here are 10 suggestions:\n",
      "- Young Doctors in Love (1982)\n",
      "- Richard Pryor Live on the Sunset Strip (1982)\n",
      "- Slumber Party Massacre, The (1982)\n",
      "- Under Siege 2: Dark Territory (1995)\n",
      "- 28 Up (1985)\n",
      "- Partly Cloudy (2009)\n",
      "- Manhunter (1986)\n",
      "- Puppet Master II (1991)\n",
      "- Traffic (2000)\n",
      "- Name of the Rose, The (Name der Rose, Der) (1986)\n",
      "\n",
      "\n"
     ]
    },
    {
     "name": "stdin",
     "output_type": "stream",
     "text": [
      "Enter a movie name: \n",
      "\n",
      " Traffic (2000)\n"
     ]
    },
    {
     "name": "stdout",
     "output_type": "stream",
     "text": [
      "\n",
      "Top 10 Recommended Movies:\n",
      "1. Secret of Roan Inish, The (1994)\n",
      "2. Shadowlands (1993)\n",
      "3. Everest (1998)\n",
      "4. Zero Theorem, The (2013)\n",
      "5. Life as a House (2001)\n",
      "6. Return to Paradise (1998)\n",
      "7. Geronimo: An American Legend (1993)\n",
      "8. Original Sin (2001)\n",
      "9. I Love You to Death (1990)\n",
      "10. Other Boleyn Girl, The (2008)\n"
     ]
    }
   ],
   "source": [
    "#Putting it all together and creating one code \n",
    "# 1) Bring in data\n",
    "ratings = pd.read_csv('ratings.csv')\n",
    "movies = pd.read_csv('movies.csv')\n",
    "\n",
    "# 2) Merge Data sets\n",
    "df = ratings.merge(movies,on='movieId',how='left')\n",
    "\n",
    "# 3) Create a Matrix with movies\n",
    "movie_user_matrix = df.pivot_table(index = 'userId', columns = 'title', values = 'rating')\n",
    "\n",
    "# 4) Compute the pearson correlation between all movies. In our example we only used Toy Story\n",
    "correlation_matrix = movie_user_matrix.corr(method=\"pearson\")\n",
    "\n",
    "# 5) Create functions to recommend similar movies\n",
    "\n",
    "def recommend_movies(movie_name, num_rec = 10):\n",
    "    if movie_name not in correlation_matrix.index:\n",
    "        print(\"Looks like the movie doesn't exist or is misspelled, please try again.\")\n",
    "        return[]\n",
    "    #What we are doing here is get all the correlations for a movie, droping missing values and then sorting them by those with highest corr\n",
    "    similar_movies = correlation_matrix[movie_name].dropna().sort_values(ascending=False)[1:num_rec+1]\n",
    "    return similar_movies.index.to_list()\n",
    "\n",
    "# 6) Code to ask user for movie and recommend top 10 movies\n",
    "\n",
    "# Since the data set has the years along with the movie, I would like to provide 10 suggestions of random movies they can search\n",
    "random_movies = movies[\"title\"].sample(10).tolist()\n",
    "print(\"Need a movie? Here are 10 suggestions:\")\n",
    "for movie in random_movies:\n",
    "    print(f\"- {movie}\")\n",
    "   \n",
    "print(\"\\n\")\n",
    "user_input = input(\"Enter a movie name: \\n\\n\").strip()\n",
    "recommendations = recommend_movies(user_input)\n",
    "\n",
    "print(\"\\nTop 10 Recommended Movies:\")\n",
    "for i, movie in enumerate(recommendations, 1):\n",
    "    print(f\"{i}. {movie}\")"
   ]
  },
  {
   "cell_type": "markdown",
   "id": "d584c7cf-ac7c-459f-b5ed-4c26289c4712",
   "metadata": {},
   "source": [
    "### Overview of how the code works\n",
    "\n",
    "The process is quite simple. The process is to take the movie ratings and create a matrix of correlations. As we have learned, correlations can be used to test the strength of relationships between two variables. In this case, a high positive correlation means that if a user rated one movie highly, they they are likely to rate the recommended movie highly as well. What the model does when a user selects a movie is to retrieve the list of the movies with the ten highest correlations and then recommended them to the user. "
   ]
  },
  {
   "cell_type": "markdown",
   "id": "3c954f9f-1276-4c70-bf5c-3eed9ec461f7",
   "metadata": {},
   "source": [
    "### Source used for Tutorial\n",
    "\n",
    "Nair, A. (2019, September 25). How to build your first recommender system using Python & MovieLens dataset. Analytics India Magazine. https://analyticsindiamag.com/deep-tech/how-to-build-your-first-recommender-system-using-python-movielens-dataset/"
   ]
  }
 ],
 "metadata": {
  "kernelspec": {
   "display_name": "Python 3 (ipykernel)",
   "language": "python",
   "name": "python3"
  },
  "language_info": {
   "codemirror_mode": {
    "name": "ipython",
    "version": 3
   },
   "file_extension": ".py",
   "mimetype": "text/x-python",
   "name": "python",
   "nbconvert_exporter": "python",
   "pygments_lexer": "ipython3",
   "version": "3.11.7"
  }
 },
 "nbformat": 4,
 "nbformat_minor": 5
}
